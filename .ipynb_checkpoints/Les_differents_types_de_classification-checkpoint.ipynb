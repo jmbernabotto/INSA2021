{
 "cells": [
  {
   "cell_type": "markdown",
   "metadata": {},
   "source": [
    "# La classification \n",
    "L'apprentissage machine est un domaine d'étude et concerne les algorithmes qui apprennent à partir d'exemples.\n",
    "\n",
    "La classification est une tâche qui nécessite l'utilisation d'algorithmes d'apprentissage machine qui apprennent à attribuer un label de classe à des exemples du domaine du problème. Un exemple facile à comprendre est la classification des e-mails en \"spam\" ou \"non spam\".\n",
    "\n",
    "\n",
    "Voici quelques exemples de problèmes de classification :\n",
    "\n",
    "Dans un exemple donné, classifier s'il s'agit de spam ou non.\n",
    "Étant donné un caractère manuscrit, le classer comme l'un des caractères connus.\n",
    "Compte tenu du comportement récent de l'utilisateur, classer comme un churn ou non.\n",
    "Du point de vue de la modélisation, la classification nécessite un ensemble de données de formation avec de nombreux exemples d'entrées et de sorties dont on peut tirer des enseignements.\n",
    "\n",
    "Un modèle utilisera l'ensemble de données de formation et calculera la meilleure façon de faire correspondre des exemples de données d'entrée à des étiquettes de classe spécifiques. En tant que tel, l'ensemble de données de formation doit être suffisamment représentatif du problème et comporter de nombreux exemples de chaque étiquette de classe.\n",
    "\n",
    "Les étiquettes de classe sont souvent des valeurs de chaîne, par exemple \"spam\", \"pas spam\", et doivent être associées à des valeurs numériques avant d'être fournies à un algorithme de modélisation. C'est ce qu'on appelle souvent le codage des étiquettes, où un nombre entier unique est attribué à chaque étiquette de classe, par exemple \"spam\" = 0, \"pas de spam\" = 1.\n",
    "\n",
    "Il existe de nombreux types différents d'algorithmes de classification pour la modélisation des problèmes de modélisation prédictive de la classification.\n",
    "\n",
    "Il n'existe pas de bonne théorie sur la façon de faire correspondre les algorithmes aux types de problèmes ; il est plutôt généralement recommandé qu'un praticien utilise des expériences contrôlées et découvre quel algorithme et quelle configuration d'algorithme donnent les meilleures performances pour une tâche de classification donnée.\n",
    "\n",
    "Les algorithmes de modélisation prédictive de la classification sont évalués sur la base de leurs résultats. La précision de la classification est une mesure populaire utilisée pour évaluer la performance d'un modèle basé sur les étiquettes de classe prédites. La précision de la classification n'est pas parfaite mais constitue un bon point de départ pour de nombreuses tâches de classification.\n",
    "\n",
    "Au lieu des étiquettes de classe, certaines tâches peuvent nécessiter la prédiction d'une probabilité d'appartenance à une classe pour chaque exemple. Cela apporte une incertitude supplémentaire dans la prédiction qu'une application ou un utilisateur peut ensuite interpréter. Un diagnostic populaire pour évaluer les probabilités prédites est la courbe ROC.\n",
    "\n",
    "Il existe peut-être quatre grands types de tâches de classification que vous pourriez rencontrer ; ce sont\n",
    "\n",
    "* Classification binaire\n",
    "* Classification multi-classes\n",
    "* Classification multi-label\n",
    "* Classification déséquilibrée"
   ]
  },
  {
   "cell_type": "markdown",
   "metadata": {},
   "source": [
    "# Classification binaire\n",
    "La classification binaire fait référence aux tâches de classification qui ont deux étiquettes de classe.\n",
    "\n",
    "En voici quelques exemples :\n",
    "\n",
    "Détection de courrier électronique non sollicité (spam ou non).\n",
    "Prévision de rejet (churn ou non).\n",
    "Prédiction de conversion (achat ou non).\n",
    "En général, les tâches de classification binaire impliquent une classe qui est l'état normal et une autre classe qui est l'état anormal.\n",
    "\n",
    "Par exemple, \"pas de spam\" est l'état normal et \"spam\" est l'état anormal. Un autre exemple est \"cancer non détecté\", qui est l'état normal d'une tâche qui implique un test médical, et \"cancer détecté\", qui est l'état anormal.\n",
    "\n",
    "La classe correspondant à l'état normal reçoit le label de classe 0 et la classe correspondant à l'état anormal reçoit le label de classe 1.\n",
    "\n",
    "Il est courant de modéliser une tâche de classification binaire avec un modèle qui prédit une distribution de probabilité de Bernoulli pour chaque exemple.\n",
    "\n",
    "La distribution de Bernoulli est une distribution de probabilité discrète qui couvre un cas où un événement aura un résultat binaire soit 0 soit 1. Pour la classification, cela signifie que le modèle prédit une probabilité qu'un exemple appartienne à la classe 1, ou l'état anormal.\n",
    "\n",
    "Les algorithmes les plus courants qui peuvent être utilisés pour la classification binaire sont les suivants\n",
    "\n",
    "* Régression logistique\n",
    "* k-Voisins les plus proches\n",
    "* Arbres de décision\n",
    "* Machine à support de vecteurs\n",
    "* Naïf Bayes\n",
    "\n",
    "Certains algorithmes sont spécifiquement conçus pour la classification binaire et ne prennent pas en charge nativement plus de deux classes, par exemple la régression logistique et les machines à vecteurs de soutien.\n",
    "\n",
    "Ensuite, examinons de plus près un ensemble de données afin de développer une intuition pour les problèmes de classification binaire.\n",
    "\n",
    "Nous pouvons utiliser la fonction make_blobs() pour générer un ensemble de données de classification binaire synthétique."
   ]
  },
  {
   "cell_type": "code",
   "execution_count": 59,
   "metadata": {
    "ExecuteTime": {
     "end_time": "2020-10-18T07:28:54.818825Z",
     "start_time": "2020-10-18T07:28:54.810945Z"
    }
   },
   "outputs": [],
   "source": [
    "from numpy import where\n",
    "from collections import Counter\n",
    "from sklearn.datasets import make_blobs\n",
    "from matplotlib import pyplot\n",
    "# define dataset\n",
    "X, y = make_blobs(n_samples=1000, centers=2, random_state=1)\n"
   ]
  },
  {
   "cell_type": "code",
   "execution_count": 60,
   "metadata": {
    "ExecuteTime": {
     "end_time": "2020-10-18T07:29:04.632915Z",
     "start_time": "2020-10-18T07:29:04.620284Z"
    }
   },
   "outputs": [
    {
     "name": "stdout",
     "output_type": "stream",
     "text": [
      "(1000, 2) (1000,)\n",
      "Counter({0: 500, 1: 500})\n"
     ]
    }
   ],
   "source": [
    "# summarize dataset shape\n",
    "print(X.shape, y.shape)\n",
    "# summarize observations by class label\n",
    "counter = Counter(y)\n",
    "print(counter)\n"
   ]
  },
  {
   "cell_type": "code",
   "execution_count": 61,
   "metadata": {
    "ExecuteTime": {
     "end_time": "2020-10-18T07:29:09.126412Z",
     "start_time": "2020-10-18T07:29:08.869547Z"
    }
   },
   "outputs": [
    {
     "name": "stdout",
     "output_type": "stream",
     "text": [
      "[-3.05837272  4.48825769] 0\n",
      "[-8.60973869 -3.72714879] 1\n",
      "[1.37129721 5.23107449] 0\n",
      "[-9.33917563 -2.9544469 ] 1\n",
      "[-11.57178593  -3.85275513] 1\n",
      "[-11.42257341  -4.85679127] 1\n",
      "[-10.44518578  -3.76476563] 1\n",
      "[-10.44603561  -3.26065964] 1\n",
      "[-0.61947075  3.48804983] 0\n",
      "[-10.91115591  -4.5772537 ] 1\n"
     ]
    },
    {
     "data": {
      "image/png": "[encoded data removed]",
      "text/plain": [
       "<Figure size 432x288 with 1 Axes>"
      ]
     },
     "metadata": {
      "needs_background": "light"
     },
     "output_type": "display_data"
    }
   ],
   "source": [
    "# summarize first few examples\n",
    "for i in range(10):\n",
    "\tprint(X[i], y[i])\n",
    "# plot the dataset and color the by class label\n",
    "for label, _ in counter.items():\n",
    "\trow_ix = where(y == label)[0]\n",
    "\tpyplot.scatter(X[row_ix, 0], X[row_ix, 1], label=str(label))\n",
    "pyplot.legend()\n",
    "pyplot.show()"
   ]
  },
  {
   "cell_type": "markdown",
   "metadata": {},
   "source": [
    "# Classification multi-classes"
   ]
  },
  {
   "cell_type": "raw",
   "metadata": {},
   "source": [
    "La classification multi-classe désigne les tâches de classification qui ont plus de deux étiquettes de classe.\n",
    "\n",
    "En voici quelques exemples :\n",
    "\n",
    "La classification des visages.\n",
    "La classification des espèces végétales.\n",
    "Reconnaissance optique de caractères.\n",
    "Contrairement à la classification binaire, la classification multiclasse n'a pas la notion de résultats normaux et anormaux. Les exemples sont plutôt classés comme appartenant à l'une des classes connues.\n",
    "\n",
    "Le nombre d'étiquettes de classe peut être très important pour certains problèmes. Par exemple, un modèle peut prédire qu'une photo appartient à une classe parmi des milliers ou des dizaines de milliers de visages dans un système de reconnaissance faciale.\n",
    "\n",
    "Les problèmes qui impliquent la prédiction d'une séquence de mots, tels que les modèles de traduction de texte, peuvent également être considérés comme un type spécial de classification multi-classes. Chaque mot de la séquence de mots à prédire implique une classification multiclasse où la taille du vocabulaire définit le nombre de classes possibles qui peuvent être prédites et qui pourraient compter des dizaines ou des centaines de milliers de mots.\n",
    "\n",
    "Il est courant de modéliser une tâche de classification multiclasse avec un modèle qui prédit une distribution de probabilité Multinoulli pour chaque exemple.\n",
    "\n",
    "La distribution de Multinoulli est une distribution de probabilité discrète qui couvre un cas où un événement aura un résultat catégorique, par exemple K dans {1, 2, 3, ..., K}. Pour la classification, cela signifie que le modèle prédit la probabilité qu'un exemple appartienne à chaque étiquette de classe.\n",
    "\n",
    "De nombreux algorithmes utilisés pour la classification binaire peuvent être utilisés pour la classification multi-classes."
   ]
  },
  {
   "cell_type": "code",
   "execution_count": null,
   "metadata": {},
   "outputs": [],
   "source": [
    "Les algorithmes les plus courants qui peuvent être utilisés pour la classification multi-classes sont les suivants\n",
    "\n",
    "k-Voisins les plus proches.\n",
    "Arbres de décision.\n",
    "Bayes naïfs.\n",
    "Forêt aléatoire.\n",
    "Gradient Boosting.\n",
    "\n",
    "Les algorithmes conçus pour la classification binaire peuvent être adaptés pour être utilisés dans des problèmes multi-classes.\n",
    "\n",
    "Cela implique d'utiliser une stratégie d'ajustement de plusieurs modèles de classification binaire pour chaque classe par rapport à toutes les autres classes (appelé one-vs-rest) ou un modèle pour chaque paire de classes (appelé one-vs-one).\n",
    "\n",
    "One-vs-Rest : Ajuster un modèle de classification binaire pour chaque classe par rapport à toutes les autres classes.\n",
    "One-vs-One : Ajuster un modèle de classification binaire pour chaque paire de classes.\n",
    "Les algorithmes de classification binaire qui peuvent utiliser ces stratégies pour la classification multi-classes comprennent :\n",
    "\n",
    "Régression logistique.\n",
    "Support de la machine à vecteurs."
   ]
  },
  {
   "cell_type": "code",
   "execution_count": 54,
   "metadata": {
    "ExecuteTime": {
     "end_time": "2020-10-18T07:10:29.666221Z",
     "start_time": "2020-10-18T07:10:29.661874Z"
    }
   },
   "outputs": [],
   "source": [
    "from sklearn.datasets import make_blobs\n",
    "from sklearn import cluster\n",
    "X, y = make_blobs(1000, centers=3,cluster_std=1.5)  #X le nuage, y la classe d'appartenance\n",
    "#pour changer la séparation accroitre le cluster_std"
   ]
  },
  {
   "cell_type": "code",
   "execution_count": 55,
   "metadata": {
    "ExecuteTime": {
     "end_time": "2020-10-18T07:10:31.018874Z",
     "start_time": "2020-10-18T07:10:31.014947Z"
    }
   },
   "outputs": [
    {
     "name": "stdout",
     "output_type": "stream",
     "text": [
      "(1000, 2) (1000,)\n"
     ]
    }
   ],
   "source": [
    "# summarize dataset shape\n",
    "print(X.shape, y.shape)"
   ]
  },
  {
   "cell_type": "code",
   "execution_count": 56,
   "metadata": {
    "ExecuteTime": {
     "end_time": "2020-10-18T07:10:32.322606Z",
     "start_time": "2020-10-18T07:10:32.318098Z"
    }
   },
   "outputs": [
    {
     "name": "stdout",
     "output_type": "stream",
     "text": [
      "Counter({0: 334, 1: 333, 2: 333})\n"
     ]
    }
   ],
   "source": [
    "# summarize observations by class label\n",
    "from collections import Counter\n",
    "counter = Counter(y)\n",
    "print(counter)\n"
   ]
  },
  {
   "cell_type": "code",
   "execution_count": 57,
   "metadata": {
    "ExecuteTime": {
     "end_time": "2020-10-18T07:10:33.988648Z",
     "start_time": "2020-10-18T07:10:33.763665Z"
    }
   },
   "outputs": [
    {
     "name": "stdout",
     "output_type": "stream",
     "text": [
      "[-0.84153552  4.01590868] 0\n",
      "[-6.76417161  3.69405224] 1\n",
      "[-0.00459654  2.44666468] 0\n",
      "[-7.75814637  4.30786705] 1\n",
      "[1.04824874 3.8923545 ] 0\n",
      "[-5.99022605  4.12986973] 1\n",
      "[ 4.087249   10.56044831] 2\n",
      "[0.890311   2.72278469] 0\n",
      "[-4.59969893  4.75708346] 1\n",
      "[5.23358854 8.96880672] 2\n"
     ]
    },
    {
     "data": {
      "image/png": "[encoded data removed]",
      "text/plain": [
       "<Figure size 432x288 with 1 Axes>"
      ]
     },
     "metadata": {
      "needs_background": "light"
     },
     "output_type": "display_data"
    }
   ],
   "source": [
    "from numpy import where\n",
    "# summarize first few examples\n",
    "for i in range(10):\n",
    "\tprint(X[i], y[i])\n",
    "# plot the dataset and color the by class label\n",
    "for label, _ in counter.items():\n",
    "\trow_ix = where(y == label)[0]\n",
    "\tplt.scatter(X[row_ix, 0], X[row_ix, 1], label=str(label))\n",
    "plt.legend()\n",
    "plt.show()"
   ]
  },
  {
   "cell_type": "markdown",
   "metadata": {},
   "source": [
    "# Classification multi-label\n",
    "La classification multi-label fait référence aux tâches de classification qui ont deux ou plusieurs labels de classe, où un ou plusieurs labels de classe peuvent être prévus pour chaque exemple.\n",
    "\n",
    "Prenons l'exemple de la classification des photos, où une photo donnée peut comporter plusieurs objets dans la scène et où un modèle peut prédire la présence de plusieurs objets connus dans la photo, tels que \"vélo\", \"pomme\", \"personne\", etc.\n",
    "\n",
    "Ceci est différent de la classification binaire et de la classification multi-classes, où une seule étiquette de classe est prédite pour chaque exemple.\n",
    "\n",
    "Il est courant de modéliser les tâches de classification à étiquettes multiples avec un modèle qui prédit des sorties multiples, chaque sortie étant prédite comme une distribution de probabilité de Bernoulli. Il s'agit essentiellement d'un modèle qui fait des prédictions de classification binaire multiple pour chaque exemple.\n",
    "\n",
    "Les algorithmes de classification utilisés pour la classification binaire ou multiclasse ne peuvent pas être utilisés directement pour la classification multilabel. Des versions spécialisées d'algorithmes de classification standard peuvent être utilisées, notamment des versions dites multi-labels des algorithmes :\n",
    "\n",
    "* Arbres de décision multi-label\n",
    "* Forêts aléatoires multimarques\n",
    "* Stimulation du gradient multi-label\n",
    "\n",
    "Une autre approche consiste à utiliser un algorithme de classification distinct pour prévoir les étiquettes de chaque classe."
   ]
  },
  {
   "cell_type": "code",
   "execution_count": 62,
   "metadata": {
    "ExecuteTime": {
     "end_time": "2020-10-18T07:37:11.778574Z",
     "start_time": "2020-10-18T07:36:58.260799Z"
    }
   },
   "outputs": [
    {
     "name": "stdout",
     "output_type": "stream",
     "text": [
      "(1000, 2) (1000, 3)\n",
      "[18. 35.] [1 1 1]\n",
      "[22. 33.] [1 1 1]\n",
      "[26. 36.] [1 1 1]\n",
      "[24. 28.] [1 1 0]\n",
      "[23. 27.] [1 1 0]\n",
      "[15. 31.] [0 1 0]\n",
      "[20. 37.] [0 1 0]\n",
      "[18. 31.] [1 1 1]\n",
      "[29. 27.] [1 0 0]\n",
      "[29. 28.] [1 1 0]\n"
     ]
    }
   ],
   "source": [
    "# example of a multi-label classification task\n",
    "from sklearn.datasets import make_multilabel_classification\n",
    "# define dataset\n",
    "X, y = make_multilabel_classification(n_samples=1000, n_features=2, n_classes=3, n_labels=2, random_state=1)\n",
    "# summarize dataset shape\n",
    "print(X.shape, y.shape)\n",
    "# summarize first few examples\n",
    "for i in range(10):\n",
    "\tprint(X[i], y[i])"
   ]
  },
  {
   "cell_type": "markdown",
   "metadata": {},
   "source": [
    "# Classification déséquilibrée\n",
    "La classification déséquilibrée fait référence aux tâches de classification où le nombre d'exemples dans chaque classe est inégalement réparti.\n",
    "\n",
    "En règle générale, les tâches de classification déséquilibrée sont des tâches de classification binaire où la majorité des exemples dans l'ensemble des données de formation appartiennent à la classe normale et une minorité d'exemples à la classe anormale.\n",
    "\n",
    "Voici quelques exemples :\n",
    "\n",
    "* Détection de la fraude.\n",
    "* Détection des valeurs aberrantes.\n",
    "* Tests de diagnostic médical.\n",
    "\n",
    "Ces problèmes sont modélisés comme des tâches de classification binaire, bien qu'ils puissent nécessiter des techniques spécialisées.\n",
    "\n",
    "Des techniques spécialisées peuvent être utilisées pour modifier la composition des échantillons dans l'ensemble des données de formation en sous-échantillonnant la classe majoritaire ou en suréchantillonnant la classe minoritaire.\n",
    "\n",
    "En voici quelques exemples :\n",
    "\n",
    "* Sous-échantillonnage aléatoire.\n",
    "* Suréchantillonnage SMOTE.\n",
    "\n",
    "Des algorithmes de modélisation spécialisés peuvent être utilisés pour accorder plus d'attention à la classe minoritaire lors de l'ajustement du modèle sur l'ensemble de données de formation, tels que les algorithmes d'apprentissage machine sensibles au coût.\n",
    "\n",
    "En voici quelques exemples :\n",
    "\n",
    "* Régression logistique sensible au coût.\n",
    "* Arbres de décision sensibles aux coûts.\n",
    "* Machines à support de vecteurs sensibles au coût.\n",
    "\n",
    "Enfin, d'autres mesures de performance peuvent être nécessaires, car le fait de rendre compte de l'exactitude de la classification peut être trompeur.\n",
    "\n",
    "En voici quelques exemples :\n",
    "\n",
    "* Précision.\n",
    "* Rappel.\n",
    "* Mesure F1.\n",
    "\n",
    "Ensuite, examinons de plus près un ensemble de données afin de développer une intuition pour les problèmes de classification déséquilibrée.\n",
    "\n",
    "Nous pouvons utiliser la fonction make_classification() pour générer un ensemble de données synthétiques de classification binaire déséquilibrée."
   ]
  },
  {
   "cell_type": "code",
   "execution_count": 64,
   "metadata": {
    "ExecuteTime": {
     "end_time": "2020-10-18T07:40:15.995759Z",
     "start_time": "2020-10-18T07:40:15.984995Z"
    }
   },
   "outputs": [],
   "source": [
    "# example of an imbalanced binary classification task\n",
    "from numpy import where\n",
    "from collections import Counter\n",
    "from sklearn.datasets import make_classification\n",
    "from matplotlib import pyplot\n",
    "# define dataset\n",
    "X, y = make_classification(n_samples=1000, n_features=2, n_informative=2, n_redundant=0, n_classes=2, n_clusters_per_class=1, weights=[0.99,0.01], random_state=1)\n"
   ]
  },
  {
   "cell_type": "code",
   "execution_count": 65,
   "metadata": {
    "ExecuteTime": {
     "end_time": "2020-10-18T07:40:24.895989Z",
     "start_time": "2020-10-18T07:40:24.883313Z"
    }
   },
   "outputs": [
    {
     "name": "stdout",
     "output_type": "stream",
     "text": [
      "(1000, 2) (1000,)\n",
      "Counter({0: 983, 1: 17})\n"
     ]
    }
   ],
   "source": [
    "# summarize dataset shape\n",
    "print(X.shape, y.shape)\n",
    "# summarize observations by class label\n",
    "counter = Counter(y)\n",
    "print(counter)\n"
   ]
  },
  {
   "cell_type": "code",
   "execution_count": 66,
   "metadata": {
    "ExecuteTime": {
     "end_time": "2020-10-18T07:40:27.586237Z",
     "start_time": "2020-10-18T07:40:27.341127Z"
    }
   },
   "outputs": [
    {
     "name": "stdout",
     "output_type": "stream",
     "text": [
      "[0.86924745 1.18613612] 0\n",
      "[1.55110839 1.81032905] 0\n",
      "[1.29361936 1.01094607] 0\n",
      "[1.11988947 1.63251786] 0\n",
      "[1.04235568 1.12152929] 0\n",
      "[1.18114858 0.92397607] 0\n",
      "[1.1365562  1.17652556] 0\n",
      "[0.46291729 0.72924998] 0\n",
      "[0.18315826 1.07141766] 0\n",
      "[0.32411648 0.53515376] 0\n"
     ]
    },
    {
     "data": {
      "image/png": "[encoded data removed]",
      "text/plain": [
       "<Figure size 432x288 with 1 Axes>"
      ]
     },
     "metadata": {
      "needs_background": "light"
     },
     "output_type": "display_data"
    }
   ],
   "source": [
    "# summarize first few examples\n",
    "for i in range(10):\n",
    "\tprint(X[i], y[i])\n",
    "# plot the dataset and color the by class label\n",
    "for label, _ in counter.items():\n",
    "\trow_ix = where(y == label)[0]\n",
    "\tpyplot.scatter(X[row_ix, 0], X[row_ix, 1], label=str(label))\n",
    "pyplot.legend()\n",
    "pyplot.show()"
   ]
  },
  {
   "cell_type": "code",
   "execution_count": null,
   "metadata": {},
   "outputs": [],
   "source": []
  }
 ],
 "metadata": {
  "kernelspec": {
   "display_name": "Python 3 (ipykernel)",
   "language": "python",
   "name": "python3"
  },
  "language_info": {
   "codemirror_mode": {
    "name": "ipython",
    "version": 3
   },
   "file_extension": ".py",
   "mimetype": "text/x-python",
   "name": "python",
   "nbconvert_exporter": "python",
   "pygments_lexer": "ipython3",
   "version": "3.8.12"
  },
  "varInspector": {
   "cols": {
    "lenName": 16,
    "lenType": 16,
    "lenVar": 40
   },
   "kernels_config": {
    "python": {
     "delete_cmd_postfix": "",
     "delete_cmd_prefix": "del ",
     "library": "var_list.py",
     "varRefreshCmd": "print(var_dic_list())"
    },
    "r": {
     "delete_cmd_postfix": ") ",
     "delete_cmd_prefix": "rm(",
     "library": "var_list.r",
     "varRefreshCmd": "cat(var_dic_list()) "
    }
   },
   "types_to_exclude": [
    "module",
    "function",
    "builtin_function_or_method",
    "instance",
    "_Feature"
   ],
   "window_display": false
  }
 },
 "nbformat": 4,
 "nbformat_minor": 4
}
